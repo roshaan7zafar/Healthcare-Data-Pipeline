{
 "cells": [
  {
   "cell_type": "code",
   "execution_count": 40,
   "id": "ca0376f6",
   "metadata": {},
   "outputs": [],
   "source": [
    "import boto3\n",
    "import pandas as pd\n",
    "from io import StringIO\n",
    "import io\n",
    "import json\n",
    "import warnings\n",
    "import tempfile\n",
    "import pandas as pd\n",
    "import numpy as np\n",
    "from sqlalchemy import create_engine, text\n",
    "from datetime import datetime\n",
    "import sys\n",
    "import os\n",
    "from tempfile import TemporaryDirectory\n",
    "import zipfile\n",
    "import numpy as np\n",
    "warnings.filterwarnings(\"ignore\")\n",
    "import pdfconv"
   ]
  },
  {
   "cell_type": "code",
   "execution_count": 18,
   "id": "33c361d6",
   "metadata": {},
   "outputs": [
    {
     "name": "stdout",
     "output_type": "stream",
     "text": [
      "Started\n"
     ]
    }
   ],
   "source": [
    "print('Started')"
   ]
  },
  {
   "cell_type": "code",
   "execution_count": 19,
   "id": "0162b427",
   "metadata": {},
   "outputs": [
    {
     "name": "stdout",
     "output_type": "stream",
     "text": [
      "Data saved to matched_patients_dict.json\n"
     ]
    }
   ],
   "source": [
    "# Save the dictionary to a JSON file\n",
    "file_path = 'matched_patients_dict.json'\n",
    "with open(file_path, 'r') as json_file:\n",
    "    patients = json.load(json_file)\n",
    "\n",
    "print(f'Data saved to {file_path}')"
   ]
  },
  {
   "cell_type": "code",
   "execution_count": 20,
   "id": "9c4cd87e",
   "metadata": {},
   "outputs": [
    {
     "name": "stdout",
     "output_type": "stream",
     "text": [
      "Loaded\n"
     ]
    }
   ],
   "source": [
    "print('Loaded')"
   ]
  },
  {
   "cell_type": "code",
   "execution_count": 21,
   "id": "e057ee15",
   "metadata": {},
   "outputs": [],
   "source": [
    "with open('conf.json' , 'r') as conf:\n",
    "    config = json.loads(conf.read())\n",
    "    dynamic_part = f\"{config['client']}/{config['year']}/{config['month']}/{config['destination_configuration']['suffix']}\"\n",
    "\n",
    "if config is None:\n",
    "    print('ERROR: Problem parsing config file')\n",
    "    sys.exit()\n"
   ]
  },
  {
   "cell_type": "code",
   "execution_count": 22,
   "id": "c901b4a6",
   "metadata": {},
   "outputs": [],
   "source": [
    "def zip_pdfs_in_folder(folder_name, output_zip_name):\n",
    "    # Check if the folder exists\n",
    "    if not os.path.exists(folder_name):\n",
    "        print(f\"Folder '{folder_name}' not found.\")\n",
    "        return\n",
    "\n",
    "    # List all PDF files in the folder\n",
    "    pdf_files = [f for f in os.listdir(folder_name) if f.endswith(\".pdf\") or f.endswith(\".xlsx\")]\n",
    "\n",
    "    # Check if there are any PDF files to zip\n",
    "    if not pdf_files:\n",
    "        print(f\"No PDF files found in '{folder_name}'.\")\n",
    "        return\n",
    "\n",
    "    # Create a ZIP file for compression\n",
    "    with zipfile.ZipFile(output_zip_name, 'w', zipfile.ZIP_DEFLATED) as zipf:\n",
    "        for pdf_file in pdf_files:\n",
    "            pdf_file_path = os.path.join(folder_name, pdf_file)\n",
    "            zipf.write(pdf_file_path, os.path.basename(pdf_file))\n",
    "\n",
    "    print(f\"PDF files in '{folder_name}' have been zipped to '{output_zip_name}'.\")\n"
   ]
  },
  {
   "cell_type": "code",
   "execution_count": 23,
   "id": "e756e88b",
   "metadata": {},
   "outputs": [],
   "source": [
    "\n",
    "def get_boto3_session():\n",
    "    try:\n",
    "        aws_profile = 'paradocs'\n",
    "        session = boto3.Session(profile_name=aws_profile)\n",
    "    except Exception as e:\n",
    "        print('Switching to Default AWS Profile...')\n",
    "        session = boto3.Session()\n",
    "    return session"
   ]
  },
  {
   "cell_type": "code",
   "execution_count": 24,
   "id": "eefa08f6",
   "metadata": {},
   "outputs": [],
   "source": [
    "\n",
    "def download_gaptracker(tmpdirname , config , s3_client):\n",
    "    try:\n",
    "        gaptracker_path  = f\"{config['client']}/{config['year']}/{config['month']}/{config['source_configuration']['suffix']}/{config['gaptracker_filename']}\"\n",
    "        print('gaptracker_path', gaptracker_path)\n",
    "        gaptracker_download_path = os.path.join(tmpdirname , config['gaptracker_filename'])\n",
    "        s3_client.download_file(config['source_configuration']['bucket'] , gaptracker_path , gaptracker_download_path)\n",
    "        return gaptracker_download_path\n",
    "    except Exception as e:\n",
    "        print(f\"Error downloading {config['gaptracker_filename']} from S3: {str(e)}\")"
   ]
  },
  {
   "cell_type": "code",
   "execution_count": 25,
   "id": "b0c34a91",
   "metadata": {},
   "outputs": [],
   "source": [
    "\n",
    "def replace_worksheet_with_dataframe(dataframe, gaptracker_download_path, new_open_gaps_sheetname):\n",
    "    try:\n",
    "        with pd.ExcelWriter(gaptracker_download_path, engine='openpyxl', mode='a' , if_sheet_exists='replace') as writer: \n",
    "            dataframe.to_excel(writer, sheet_name=new_open_gaps_sheetname,index=False)\n",
    "#         s3 = boto3session.resource('s3')\n",
    "#         dest_key = f'{destination_prefix}/{client}/{year}/{month}/{active_gap_tracker_filename}'\n",
    "#         s3.Object(destination_bucket, dest_key).put(Body=open(tmp_file, 'rb'))\n",
    "    except Exception as e:\n",
    "        print(f\"Could not update Assesment and Gap Tracker values\\n\\n\", str(e))"
   ]
  },
  {
   "cell_type": "code",
   "execution_count": 88,
   "id": "750fcdb0",
   "metadata": {},
   "outputs": [],
   "source": [
    "def replace_sheet(new_open_gaps_df, patient_dict):\n",
    "\n",
    "    # Extract the first row and save it for later use\n",
    "    first_row = new_open_gaps_df.iloc[0]\n",
    "\n",
    "    # Rename the columns to use the second row as column names\n",
    "    new_open_gaps_df.columns = new_open_gaps_df.iloc[1]\n",
    "\n",
    "    # Drop the first and second rows\n",
    "    new_open_gaps_df = new_open_gaps_df.iloc[2:]\n",
    "    actual_columns = new_open_gaps_df.columns\n",
    "    count = 0\n",
    "\n",
    "    new_open_gaps_rows = len(new_open_gaps_df)\n",
    "    print('Total Rows in New Open Gaps: ', new_open_gaps_rows)\n",
    "    \n",
    "    fil = new_open_gaps_df['Appointment Date'].str.strip().str.len() == 0\n",
    "    new_open_gaps_df.loc[fil, 'Appointment Date'] = np.NaN\n",
    "    # new_open_gaps_df['Appointment Date'].fillna('NA')\n",
    "\n",
    "    len(new_open_gaps_df['Appointment Date'])\n",
    "    new_open_gaps_df['Appointment Date'].count()\n",
    "    print('Lets verify', len(new_open_gaps_df[~new_open_gaps_df['Appointment Date'].isna()]))\n",
    "#     patient_dict = { 'uniquemembergapid':'', 'Appointment_Date':''}\n",
    "\n",
    "    print('total_matched_patients', len(patient_dict.keys()))\n",
    "\n",
    "\n",
    "    for uniquemembergapid, inner_dict in patient_dict.items():\n",
    "\n",
    "        condition = uniquemembergapid == new_open_gaps_df['uniquemembergapid']\n",
    "        new_open_gaps_df.loc[condition, 'Appointment Date'] = inner_dict.get('appointment_date')\n",
    "        new_open_gaps_df.loc[condition, 'Gap Tracker'] = 'Assessed and Present'\n",
    "        new_open_gaps_df.loc[condition, 'Notes'] = 'Updated by pipeline'\n",
    "        count+= 1\n",
    "\n",
    "\n",
    "    \n",
    "    new_open_gaps_df['DeployedDate'] = pd.to_datetime(new_open_gaps_df['DeployedDate'], errors='coerce')\n",
    "    new_open_gaps_df['birthdate'] = pd.to_datetime(new_open_gaps_df['birthdate'], errors='coerce')\n",
    "    new_open_gaps_df['analyticrundate'] = pd.to_datetime(new_open_gaps_df['analyticrundate'], errors='coerce')\n",
    "    new_open_gaps_df['DeployedDate'] = new_open_gaps_df['DeployedDate'].dt.strftime('%#m/%#d/%y')\n",
    "    new_open_gaps_df['birthdate'] = new_open_gaps_df['birthdate'].dt.strftime('%#m/%#d/%y')\n",
    "    new_open_gaps_df['analyticrundate'] = new_open_gaps_df['analyticrundate'].dt.strftime('%#m/%#d/%y')\n",
    "    \n",
    "    \n",
    "    new_open_gaps_rows_post_processing = len(new_open_gaps_df)\n",
    "    print('Total Rows in New Open Gaps: ', new_open_gaps_rows_post_processing)\n",
    "    print('Total Unique Filtered Patients (# of rows updated): ', count)\n",
    "    print('Lets verify again', len(new_open_gaps_df[~new_open_gaps_df['Appointment Date'].isna()]))\n",
    "\n",
    "    new_open_gaps_df = pd.concat([actual_columns.to_frame().T, new_open_gaps_df], ignore_index=True)\n",
    "    new_open_gaps_df.columns = first_row\n",
    "    return new_open_gaps_df\n"
   ]
  },
  {
   "cell_type": "code",
   "execution_count": 87,
   "id": "9441ea04",
   "metadata": {},
   "outputs": [],
   "source": [
    "def get_unique_member_dict(ogt_filepath='ogt.xlsx'):\n",
    "    new_open_gaps_df = pd.read_excel(ogt_filepath, 'New Open Gaps', skiprows=1)\n",
    "    member_mappings = new_open_gaps_df[['uniquememberid', 'uniquemembergapid']].set_index('uniquemembergapid').to_dict()\n",
    "    member_mappings = member_mappings.get('uniquememberid')\n",
    "    return member_mappings"
   ]
  },
  {
   "cell_type": "code",
   "execution_count": 85,
   "id": "e268efad-9fd7-4129-92a4-469c7f31b7a1",
   "metadata": {},
   "outputs": [],
   "source": []
  },
  {
   "cell_type": "code",
   "execution_count": 68,
   "id": "6f0b242f",
   "metadata": {},
   "outputs": [
    {
     "name": "stdout",
     "output_type": "stream",
     "text": [
      "gaptracker_path eventus-whole-health/2023/11/optum-gap-tracker/eData -OCTOBER Gap Tracker - Eventus WholeHealth 10.30.2023 .xlsx\n"
     ]
    },
    {
     "ename": "KeyboardInterrupt",
     "evalue": "",
     "output_type": "error",
     "traceback": [
      "\u001b[0;31m---------------------------------------------------------------------------\u001b[0m",
      "\u001b[0;31mKeyboardInterrupt\u001b[0m                         Traceback (most recent call last)",
      "File \u001b[0;32m/opt/homebrew/lib/python3.9/site-packages/boto3/s3/inject.py:190\u001b[0m, in \u001b[0;36mdownload_file\u001b[0;34m(self, Bucket, Key, Filename, ExtraArgs, Callback, Config)\u001b[0m\n\u001b[1;32m    189\u001b[0m \u001b[38;5;28;01mwith\u001b[39;00m S3Transfer(\u001b[38;5;28mself\u001b[39m, Config) \u001b[38;5;28;01mas\u001b[39;00m transfer:\n\u001b[0;32m--> 190\u001b[0m     \u001b[38;5;28;01mreturn\u001b[39;00m \u001b[43mtransfer\u001b[49m\u001b[38;5;241;43m.\u001b[39;49m\u001b[43mdownload_file\u001b[49m\u001b[43m(\u001b[49m\n\u001b[1;32m    191\u001b[0m \u001b[43m        \u001b[49m\u001b[43mbucket\u001b[49m\u001b[38;5;241;43m=\u001b[39;49m\u001b[43mBucket\u001b[49m\u001b[43m,\u001b[49m\n\u001b[1;32m    192\u001b[0m \u001b[43m        \u001b[49m\u001b[43mkey\u001b[49m\u001b[38;5;241;43m=\u001b[39;49m\u001b[43mKey\u001b[49m\u001b[43m,\u001b[49m\n\u001b[1;32m    193\u001b[0m \u001b[43m        \u001b[49m\u001b[43mfilename\u001b[49m\u001b[38;5;241;43m=\u001b[39;49m\u001b[43mFilename\u001b[49m\u001b[43m,\u001b[49m\n\u001b[1;32m    194\u001b[0m \u001b[43m        \u001b[49m\u001b[43mextra_args\u001b[49m\u001b[38;5;241;43m=\u001b[39;49m\u001b[43mExtraArgs\u001b[49m\u001b[43m,\u001b[49m\n\u001b[1;32m    195\u001b[0m \u001b[43m        \u001b[49m\u001b[43mcallback\u001b[49m\u001b[38;5;241;43m=\u001b[39;49m\u001b[43mCallback\u001b[49m\u001b[43m,\u001b[49m\n\u001b[1;32m    196\u001b[0m \u001b[43m    \u001b[49m\u001b[43m)\u001b[49m\n",
      "File \u001b[0;32m/opt/homebrew/lib/python3.9/site-packages/boto3/s3/transfer.py:320\u001b[0m, in \u001b[0;36mS3Transfer.download_file\u001b[0;34m(self, bucket, key, filename, extra_args, callback)\u001b[0m\n\u001b[1;32m    319\u001b[0m \u001b[38;5;28;01mtry\u001b[39;00m:\n\u001b[0;32m--> 320\u001b[0m     \u001b[43mfuture\u001b[49m\u001b[38;5;241;43m.\u001b[39;49m\u001b[43mresult\u001b[49m\u001b[43m(\u001b[49m\u001b[43m)\u001b[49m\n\u001b[1;32m    321\u001b[0m \u001b[38;5;66;03m# This is for backwards compatibility where when retries are\u001b[39;00m\n\u001b[1;32m    322\u001b[0m \u001b[38;5;66;03m# exceeded we need to throw the same error from boto3 instead of\u001b[39;00m\n\u001b[1;32m    323\u001b[0m \u001b[38;5;66;03m# s3transfer's built in RetriesExceededError as current users are\u001b[39;00m\n\u001b[1;32m    324\u001b[0m \u001b[38;5;66;03m# catching the boto3 one instead of the s3transfer exception to do\u001b[39;00m\n\u001b[1;32m    325\u001b[0m \u001b[38;5;66;03m# their own retries.\u001b[39;00m\n",
      "File \u001b[0;32m/opt/homebrew/lib/python3.9/site-packages/s3transfer/futures.py:106\u001b[0m, in \u001b[0;36mTransferFuture.result\u001b[0;34m(self)\u001b[0m\n\u001b[1;32m    105\u001b[0m \u001b[38;5;28mself\u001b[39m\u001b[38;5;241m.\u001b[39mcancel()\n\u001b[0;32m--> 106\u001b[0m \u001b[38;5;28;01mraise\u001b[39;00m e\n",
      "File \u001b[0;32m/opt/homebrew/lib/python3.9/site-packages/s3transfer/futures.py:103\u001b[0m, in \u001b[0;36mTransferFuture.result\u001b[0;34m(self)\u001b[0m\n\u001b[1;32m     99\u001b[0m \u001b[38;5;28;01mtry\u001b[39;00m:\n\u001b[1;32m    100\u001b[0m     \u001b[38;5;66;03m# Usually the result() method blocks until the transfer is done,\u001b[39;00m\n\u001b[1;32m    101\u001b[0m     \u001b[38;5;66;03m# however if a KeyboardInterrupt is raised we want want to exit\u001b[39;00m\n\u001b[1;32m    102\u001b[0m     \u001b[38;5;66;03m# out of this and propagate the exception.\u001b[39;00m\n\u001b[0;32m--> 103\u001b[0m     \u001b[38;5;28;01mreturn\u001b[39;00m \u001b[38;5;28;43mself\u001b[39;49m\u001b[38;5;241;43m.\u001b[39;49m\u001b[43m_coordinator\u001b[49m\u001b[38;5;241;43m.\u001b[39;49m\u001b[43mresult\u001b[49m\u001b[43m(\u001b[49m\u001b[43m)\u001b[49m\n\u001b[1;32m    104\u001b[0m \u001b[38;5;28;01mexcept\u001b[39;00m \u001b[38;5;167;01mKeyboardInterrupt\u001b[39;00m \u001b[38;5;28;01mas\u001b[39;00m e:\n",
      "File \u001b[0;32m/opt/homebrew/lib/python3.9/site-packages/s3transfer/futures.py:261\u001b[0m, in \u001b[0;36mTransferCoordinator.result\u001b[0;34m(self)\u001b[0m\n\u001b[1;32m    257\u001b[0m \u001b[38;5;66;03m# Doing a wait() with no timeout cannot be interrupted in python2 but\u001b[39;00m\n\u001b[1;32m    258\u001b[0m \u001b[38;5;66;03m# can be interrupted in python3 so we just wait with the largest\u001b[39;00m\n\u001b[1;32m    259\u001b[0m \u001b[38;5;66;03m# possible value integer value, which is on the scale of billions of\u001b[39;00m\n\u001b[1;32m    260\u001b[0m \u001b[38;5;66;03m# years...\u001b[39;00m\n\u001b[0;32m--> 261\u001b[0m \u001b[38;5;28;43mself\u001b[39;49m\u001b[38;5;241;43m.\u001b[39;49m\u001b[43m_done_event\u001b[49m\u001b[38;5;241;43m.\u001b[39;49m\u001b[43mwait\u001b[49m\u001b[43m(\u001b[49m\u001b[43mMAXINT\u001b[49m\u001b[43m)\u001b[49m\n\u001b[1;32m    263\u001b[0m \u001b[38;5;66;03m# Once done waiting, raise an exception if present or return the\u001b[39;00m\n\u001b[1;32m    264\u001b[0m \u001b[38;5;66;03m# final result.\u001b[39;00m\n",
      "File \u001b[0;32m/opt/homebrew/Cellar/python@3.9/3.9.13_1/Frameworks/Python.framework/Versions/3.9/lib/python3.9/threading.py:581\u001b[0m, in \u001b[0;36mEvent.wait\u001b[0;34m(self, timeout)\u001b[0m\n\u001b[1;32m    580\u001b[0m \u001b[38;5;28;01mif\u001b[39;00m \u001b[38;5;129;01mnot\u001b[39;00m signaled:\n\u001b[0;32m--> 581\u001b[0m     signaled \u001b[38;5;241m=\u001b[39m \u001b[38;5;28;43mself\u001b[39;49m\u001b[38;5;241;43m.\u001b[39;49m\u001b[43m_cond\u001b[49m\u001b[38;5;241;43m.\u001b[39;49m\u001b[43mwait\u001b[49m\u001b[43m(\u001b[49m\u001b[43mtimeout\u001b[49m\u001b[43m)\u001b[49m\n\u001b[1;32m    582\u001b[0m \u001b[38;5;28;01mreturn\u001b[39;00m signaled\n",
      "File \u001b[0;32m/opt/homebrew/Cellar/python@3.9/3.9.13_1/Frameworks/Python.framework/Versions/3.9/lib/python3.9/threading.py:312\u001b[0m, in \u001b[0;36mCondition.wait\u001b[0;34m(self, timeout)\u001b[0m\n\u001b[1;32m    311\u001b[0m \u001b[38;5;28;01mif\u001b[39;00m timeout \u001b[38;5;129;01mis\u001b[39;00m \u001b[38;5;28;01mNone\u001b[39;00m:\n\u001b[0;32m--> 312\u001b[0m     \u001b[43mwaiter\u001b[49m\u001b[38;5;241;43m.\u001b[39;49m\u001b[43macquire\u001b[49m\u001b[43m(\u001b[49m\u001b[43m)\u001b[49m\n\u001b[1;32m    313\u001b[0m     gotit \u001b[38;5;241m=\u001b[39m \u001b[38;5;28;01mTrue\u001b[39;00m\n",
      "\u001b[0;31mKeyboardInterrupt\u001b[0m: ",
      "\nDuring handling of the above exception, another exception occurred:\n",
      "\u001b[0;31mKeyboardInterrupt\u001b[0m                         Traceback (most recent call last)",
      "File \u001b[0;32m/opt/homebrew/lib/python3.9/site-packages/s3transfer/manager.py:632\u001b[0m, in \u001b[0;36mTransferManager._shutdown\u001b[0;34m(self, cancel, cancel_msg, exc_type)\u001b[0m\n\u001b[1;32m    628\u001b[0m \u001b[38;5;28;01mtry\u001b[39;00m:\n\u001b[1;32m    629\u001b[0m     \u001b[38;5;66;03m# Wait until there are no more in-progress transfers. This is\u001b[39;00m\n\u001b[1;32m    630\u001b[0m     \u001b[38;5;66;03m# wrapped in a try statement because this can be interrupted\u001b[39;00m\n\u001b[1;32m    631\u001b[0m     \u001b[38;5;66;03m# with a KeyboardInterrupt that needs to be caught.\u001b[39;00m\n\u001b[0;32m--> 632\u001b[0m     \u001b[38;5;28;43mself\u001b[39;49m\u001b[38;5;241;43m.\u001b[39;49m\u001b[43m_coordinator_controller\u001b[49m\u001b[38;5;241;43m.\u001b[39;49m\u001b[43mwait\u001b[49m\u001b[43m(\u001b[49m\u001b[43m)\u001b[49m\n\u001b[1;32m    633\u001b[0m \u001b[38;5;28;01mexcept\u001b[39;00m \u001b[38;5;167;01mKeyboardInterrupt\u001b[39;00m:\n\u001b[1;32m    634\u001b[0m     \u001b[38;5;66;03m# If not errors were raised in the try block, the cancel should\u001b[39;00m\n\u001b[1;32m    635\u001b[0m     \u001b[38;5;66;03m# have no coordinators it needs to run cancel on. If there was\u001b[39;00m\n\u001b[1;32m    636\u001b[0m     \u001b[38;5;66;03m# an error raised in the try statement we want to cancel all of\u001b[39;00m\n\u001b[1;32m    637\u001b[0m     \u001b[38;5;66;03m# the inflight transfers before shutting down to speed that\u001b[39;00m\n\u001b[1;32m    638\u001b[0m     \u001b[38;5;66;03m# process up.\u001b[39;00m\n",
      "File \u001b[0;32m/opt/homebrew/lib/python3.9/site-packages/s3transfer/manager.py:714\u001b[0m, in \u001b[0;36mTransferCoordinatorController.wait\u001b[0;34m(self)\u001b[0m\n\u001b[1;32m    713\u001b[0m     \u001b[38;5;28;01mfor\u001b[39;00m transfer_coordinator \u001b[38;5;129;01min\u001b[39;00m \u001b[38;5;28mself\u001b[39m\u001b[38;5;241m.\u001b[39mtracked_transfer_coordinators:\n\u001b[0;32m--> 714\u001b[0m         \u001b[43mtransfer_coordinator\u001b[49m\u001b[38;5;241;43m.\u001b[39;49m\u001b[43mresult\u001b[49m\u001b[43m(\u001b[49m\u001b[43m)\u001b[49m\n\u001b[1;32m    715\u001b[0m \u001b[38;5;28;01mexcept\u001b[39;00m \u001b[38;5;167;01mKeyboardInterrupt\u001b[39;00m:\n",
      "File \u001b[0;32m/opt/homebrew/lib/python3.9/site-packages/s3transfer/futures.py:261\u001b[0m, in \u001b[0;36mTransferCoordinator.result\u001b[0;34m(self)\u001b[0m\n\u001b[1;32m    257\u001b[0m \u001b[38;5;66;03m# Doing a wait() with no timeout cannot be interrupted in python2 but\u001b[39;00m\n\u001b[1;32m    258\u001b[0m \u001b[38;5;66;03m# can be interrupted in python3 so we just wait with the largest\u001b[39;00m\n\u001b[1;32m    259\u001b[0m \u001b[38;5;66;03m# possible value integer value, which is on the scale of billions of\u001b[39;00m\n\u001b[1;32m    260\u001b[0m \u001b[38;5;66;03m# years...\u001b[39;00m\n\u001b[0;32m--> 261\u001b[0m \u001b[38;5;28;43mself\u001b[39;49m\u001b[38;5;241;43m.\u001b[39;49m\u001b[43m_done_event\u001b[49m\u001b[38;5;241;43m.\u001b[39;49m\u001b[43mwait\u001b[49m\u001b[43m(\u001b[49m\u001b[43mMAXINT\u001b[49m\u001b[43m)\u001b[49m\n\u001b[1;32m    263\u001b[0m \u001b[38;5;66;03m# Once done waiting, raise an exception if present or return the\u001b[39;00m\n\u001b[1;32m    264\u001b[0m \u001b[38;5;66;03m# final result.\u001b[39;00m\n",
      "File \u001b[0;32m/opt/homebrew/Cellar/python@3.9/3.9.13_1/Frameworks/Python.framework/Versions/3.9/lib/python3.9/threading.py:581\u001b[0m, in \u001b[0;36mEvent.wait\u001b[0;34m(self, timeout)\u001b[0m\n\u001b[1;32m    580\u001b[0m \u001b[38;5;28;01mif\u001b[39;00m \u001b[38;5;129;01mnot\u001b[39;00m signaled:\n\u001b[0;32m--> 581\u001b[0m     signaled \u001b[38;5;241m=\u001b[39m \u001b[38;5;28;43mself\u001b[39;49m\u001b[38;5;241;43m.\u001b[39;49m\u001b[43m_cond\u001b[49m\u001b[38;5;241;43m.\u001b[39;49m\u001b[43mwait\u001b[49m\u001b[43m(\u001b[49m\u001b[43mtimeout\u001b[49m\u001b[43m)\u001b[49m\n\u001b[1;32m    582\u001b[0m \u001b[38;5;28;01mreturn\u001b[39;00m signaled\n",
      "File \u001b[0;32m/opt/homebrew/Cellar/python@3.9/3.9.13_1/Frameworks/Python.framework/Versions/3.9/lib/python3.9/threading.py:312\u001b[0m, in \u001b[0;36mCondition.wait\u001b[0;34m(self, timeout)\u001b[0m\n\u001b[1;32m    311\u001b[0m \u001b[38;5;28;01mif\u001b[39;00m timeout \u001b[38;5;129;01mis\u001b[39;00m \u001b[38;5;28;01mNone\u001b[39;00m:\n\u001b[0;32m--> 312\u001b[0m     \u001b[43mwaiter\u001b[49m\u001b[38;5;241;43m.\u001b[39;49m\u001b[43macquire\u001b[49m\u001b[43m(\u001b[49m\u001b[43m)\u001b[49m\n\u001b[1;32m    313\u001b[0m     gotit \u001b[38;5;241m=\u001b[39m \u001b[38;5;28;01mTrue\u001b[39;00m\n",
      "\u001b[0;31mKeyboardInterrupt\u001b[0m: ",
      "\nDuring handling of the above exception, another exception occurred:\n",
      "\u001b[0;31mKeyboardInterrupt\u001b[0m                         Traceback (most recent call last)",
      "Cell \u001b[0;32mIn[68], line 4\u001b[0m\n\u001b[1;32m      2\u001b[0m session \u001b[38;5;241m=\u001b[39m get_boto3_session()\n\u001b[1;32m      3\u001b[0m s3_client \u001b[38;5;241m=\u001b[39m session\u001b[38;5;241m.\u001b[39mclient(\u001b[38;5;124m'\u001b[39m\u001b[38;5;124ms3\u001b[39m\u001b[38;5;124m'\u001b[39m)\n\u001b[0;32m----> 4\u001b[0m gaptracker_download_path \u001b[38;5;241m=\u001b[39m \u001b[43mdownload_gaptracker\u001b[49m\u001b[43m(\u001b[49m\u001b[43mtmpdirname\u001b[49m\u001b[43m \u001b[49m\u001b[43m,\u001b[49m\u001b[43m \u001b[49m\u001b[43mconfig\u001b[49m\u001b[43m \u001b[49m\u001b[43m,\u001b[49m\u001b[43m \u001b[49m\u001b[43ms3_client\u001b[49m\u001b[43m)\u001b[49m\n\u001b[1;32m      5\u001b[0m new_open_gaps_df \u001b[38;5;241m=\u001b[39m pd\u001b[38;5;241m.\u001b[39mread_excel(gaptracker_download_path, \u001b[38;5;124m'\u001b[39m\u001b[38;5;124mNew Open Gaps\u001b[39m\u001b[38;5;124m'\u001b[39m, header\u001b[38;5;241m=\u001b[39m\u001b[38;5;28;01mNone\u001b[39;00m)\n\u001b[1;32m      8\u001b[0m df \u001b[38;5;241m=\u001b[39m replace_sheet(new_open_gaps_df\u001b[38;5;241m.\u001b[39mcopy(), patients)\n",
      "Cell \u001b[0;32mIn[35], line 6\u001b[0m, in \u001b[0;36mdownload_gaptracker\u001b[0;34m(tmpdirname, config, s3_client)\u001b[0m\n\u001b[1;32m      4\u001b[0m     \u001b[38;5;28mprint\u001b[39m(\u001b[38;5;124m'\u001b[39m\u001b[38;5;124mgaptracker_path\u001b[39m\u001b[38;5;124m'\u001b[39m, gaptracker_path)\n\u001b[1;32m      5\u001b[0m     gaptracker_download_path \u001b[38;5;241m=\u001b[39m os\u001b[38;5;241m.\u001b[39mpath\u001b[38;5;241m.\u001b[39mjoin(tmpdirname , config[\u001b[38;5;124m'\u001b[39m\u001b[38;5;124mgaptracker_filename\u001b[39m\u001b[38;5;124m'\u001b[39m])\n\u001b[0;32m----> 6\u001b[0m     \u001b[43ms3_client\u001b[49m\u001b[38;5;241;43m.\u001b[39;49m\u001b[43mdownload_file\u001b[49m\u001b[43m(\u001b[49m\u001b[43mconfig\u001b[49m\u001b[43m[\u001b[49m\u001b[38;5;124;43m'\u001b[39;49m\u001b[38;5;124;43msource_configuration\u001b[39;49m\u001b[38;5;124;43m'\u001b[39;49m\u001b[43m]\u001b[49m\u001b[43m[\u001b[49m\u001b[38;5;124;43m'\u001b[39;49m\u001b[38;5;124;43mbucket\u001b[39;49m\u001b[38;5;124;43m'\u001b[39;49m\u001b[43m]\u001b[49m\u001b[43m \u001b[49m\u001b[43m,\u001b[49m\u001b[43m \u001b[49m\u001b[43mgaptracker_path\u001b[49m\u001b[43m \u001b[49m\u001b[43m,\u001b[49m\u001b[43m \u001b[49m\u001b[43mgaptracker_download_path\u001b[49m\u001b[43m)\u001b[49m\n\u001b[1;32m      7\u001b[0m     \u001b[38;5;28;01mreturn\u001b[39;00m gaptracker_download_path\n\u001b[1;32m      8\u001b[0m \u001b[38;5;28;01mexcept\u001b[39;00m \u001b[38;5;167;01mException\u001b[39;00m \u001b[38;5;28;01mas\u001b[39;00m e:\n",
      "File \u001b[0;32m/opt/homebrew/lib/python3.9/site-packages/boto3/s3/inject.py:190\u001b[0m, in \u001b[0;36mdownload_file\u001b[0;34m(self, Bucket, Key, Filename, ExtraArgs, Callback, Config)\u001b[0m\n\u001b[1;32m    155\u001b[0m \u001b[38;5;250m\u001b[39m\u001b[38;5;124;03m\"\"\"Download an S3 object to a file.\u001b[39;00m\n\u001b[1;32m    156\u001b[0m \n\u001b[1;32m    157\u001b[0m \u001b[38;5;124;03mUsage::\u001b[39;00m\n\u001b[0;32m   (...)\u001b[0m\n\u001b[1;32m    187\u001b[0m \u001b[38;5;124;03m    transfer.\u001b[39;00m\n\u001b[1;32m    188\u001b[0m \u001b[38;5;124;03m\"\"\"\u001b[39;00m\n\u001b[1;32m    189\u001b[0m \u001b[38;5;28;01mwith\u001b[39;00m S3Transfer(\u001b[38;5;28mself\u001b[39m, Config) \u001b[38;5;28;01mas\u001b[39;00m transfer:\n\u001b[0;32m--> 190\u001b[0m     \u001b[38;5;28;01mreturn\u001b[39;00m transfer\u001b[38;5;241m.\u001b[39mdownload_file(\n\u001b[1;32m    191\u001b[0m         bucket\u001b[38;5;241m=\u001b[39mBucket,\n\u001b[1;32m    192\u001b[0m         key\u001b[38;5;241m=\u001b[39mKey,\n\u001b[1;32m    193\u001b[0m         filename\u001b[38;5;241m=\u001b[39mFilename,\n\u001b[1;32m    194\u001b[0m         extra_args\u001b[38;5;241m=\u001b[39mExtraArgs,\n\u001b[1;32m    195\u001b[0m         callback\u001b[38;5;241m=\u001b[39mCallback,\n\u001b[1;32m    196\u001b[0m     )\n",
      "File \u001b[0;32m/opt/homebrew/lib/python3.9/site-packages/boto3/s3/transfer.py:338\u001b[0m, in \u001b[0;36mS3Transfer.__exit__\u001b[0;34m(self, *args)\u001b[0m\n\u001b[1;32m    337\u001b[0m \u001b[38;5;28;01mdef\u001b[39;00m \u001b[38;5;21m__exit__\u001b[39m(\u001b[38;5;28mself\u001b[39m, \u001b[38;5;241m*\u001b[39margs):\n\u001b[0;32m--> 338\u001b[0m     \u001b[38;5;28;43mself\u001b[39;49m\u001b[38;5;241;43m.\u001b[39;49m\u001b[43m_manager\u001b[49m\u001b[38;5;241;43m.\u001b[39;49m\u001b[38;5;21;43m__exit__\u001b[39;49m\u001b[43m(\u001b[49m\u001b[38;5;241;43m*\u001b[39;49m\u001b[43margs\u001b[49m\u001b[43m)\u001b[49m\n",
      "File \u001b[0;32m/opt/homebrew/lib/python3.9/site-packages/s3transfer/manager.py:604\u001b[0m, in \u001b[0;36mTransferManager.__exit__\u001b[0;34m(self, exc_type, exc_value, *args)\u001b[0m\n\u001b[1;32m    602\u001b[0m     \u001b[38;5;28;01mif\u001b[39;00m \u001b[38;5;28misinstance\u001b[39m(exc_value, \u001b[38;5;167;01mKeyboardInterrupt\u001b[39;00m):\n\u001b[1;32m    603\u001b[0m         cancel_exc_type \u001b[38;5;241m=\u001b[39m CancelledError\n\u001b[0;32m--> 604\u001b[0m \u001b[38;5;28;43mself\u001b[39;49m\u001b[38;5;241;43m.\u001b[39;49m\u001b[43m_shutdown\u001b[49m\u001b[43m(\u001b[49m\u001b[43mcancel\u001b[49m\u001b[43m,\u001b[49m\u001b[43m \u001b[49m\u001b[43mcancel_msg\u001b[49m\u001b[43m,\u001b[49m\u001b[43m \u001b[49m\u001b[43mcancel_exc_type\u001b[49m\u001b[43m)\u001b[49m\n",
      "File \u001b[0;32m/opt/homebrew/lib/python3.9/site-packages/s3transfer/manager.py:644\u001b[0m, in \u001b[0;36mTransferManager._shutdown\u001b[0;34m(self, cancel, cancel_msg, exc_type)\u001b[0m\n\u001b[1;32m    641\u001b[0m \u001b[38;5;28;01mfinally\u001b[39;00m:\n\u001b[1;32m    642\u001b[0m     \u001b[38;5;66;03m# Shutdown all of the executors.\u001b[39;00m\n\u001b[1;32m    643\u001b[0m     \u001b[38;5;28mself\u001b[39m\u001b[38;5;241m.\u001b[39m_submission_executor\u001b[38;5;241m.\u001b[39mshutdown()\n\u001b[0;32m--> 644\u001b[0m     \u001b[38;5;28;43mself\u001b[39;49m\u001b[38;5;241;43m.\u001b[39;49m\u001b[43m_request_executor\u001b[49m\u001b[38;5;241;43m.\u001b[39;49m\u001b[43mshutdown\u001b[49m\u001b[43m(\u001b[49m\u001b[43m)\u001b[49m\n\u001b[1;32m    645\u001b[0m     \u001b[38;5;28mself\u001b[39m\u001b[38;5;241m.\u001b[39m_io_executor\u001b[38;5;241m.\u001b[39mshutdown()\n",
      "File \u001b[0;32m/opt/homebrew/lib/python3.9/site-packages/s3transfer/futures.py:481\u001b[0m, in \u001b[0;36mBoundedExecutor.shutdown\u001b[0;34m(self, wait)\u001b[0m\n\u001b[1;32m    480\u001b[0m \u001b[38;5;28;01mdef\u001b[39;00m \u001b[38;5;21mshutdown\u001b[39m(\u001b[38;5;28mself\u001b[39m, wait\u001b[38;5;241m=\u001b[39m\u001b[38;5;28;01mTrue\u001b[39;00m):\n\u001b[0;32m--> 481\u001b[0m     \u001b[38;5;28;43mself\u001b[39;49m\u001b[38;5;241;43m.\u001b[39;49m\u001b[43m_executor\u001b[49m\u001b[38;5;241;43m.\u001b[39;49m\u001b[43mshutdown\u001b[49m\u001b[43m(\u001b[49m\u001b[43mwait\u001b[49m\u001b[43m)\u001b[49m\n",
      "File \u001b[0;32m/opt/homebrew/Cellar/python@3.9/3.9.13_1/Frameworks/Python.framework/Versions/3.9/lib/python3.9/concurrent/futures/thread.py:235\u001b[0m, in \u001b[0;36mThreadPoolExecutor.shutdown\u001b[0;34m(self, wait, cancel_futures)\u001b[0m\n\u001b[1;32m    233\u001b[0m \u001b[38;5;28;01mif\u001b[39;00m wait:\n\u001b[1;32m    234\u001b[0m     \u001b[38;5;28;01mfor\u001b[39;00m t \u001b[38;5;129;01min\u001b[39;00m \u001b[38;5;28mself\u001b[39m\u001b[38;5;241m.\u001b[39m_threads:\n\u001b[0;32m--> 235\u001b[0m         \u001b[43mt\u001b[49m\u001b[38;5;241;43m.\u001b[39;49m\u001b[43mjoin\u001b[49m\u001b[43m(\u001b[49m\u001b[43m)\u001b[49m\n",
      "File \u001b[0;32m/opt/homebrew/Cellar/python@3.9/3.9.13_1/Frameworks/Python.framework/Versions/3.9/lib/python3.9/threading.py:1060\u001b[0m, in \u001b[0;36mThread.join\u001b[0;34m(self, timeout)\u001b[0m\n\u001b[1;32m   1057\u001b[0m     \u001b[38;5;28;01mraise\u001b[39;00m \u001b[38;5;167;01mRuntimeError\u001b[39;00m(\u001b[38;5;124m\"\u001b[39m\u001b[38;5;124mcannot join current thread\u001b[39m\u001b[38;5;124m\"\u001b[39m)\n\u001b[1;32m   1059\u001b[0m \u001b[38;5;28;01mif\u001b[39;00m timeout \u001b[38;5;129;01mis\u001b[39;00m \u001b[38;5;28;01mNone\u001b[39;00m:\n\u001b[0;32m-> 1060\u001b[0m     \u001b[38;5;28;43mself\u001b[39;49m\u001b[38;5;241;43m.\u001b[39;49m\u001b[43m_wait_for_tstate_lock\u001b[49m\u001b[43m(\u001b[49m\u001b[43m)\u001b[49m\n\u001b[1;32m   1061\u001b[0m \u001b[38;5;28;01melse\u001b[39;00m:\n\u001b[1;32m   1062\u001b[0m     \u001b[38;5;66;03m# the behavior of a negative timeout isn't documented, but\u001b[39;00m\n\u001b[1;32m   1063\u001b[0m     \u001b[38;5;66;03m# historically .join(timeout=x) for x<0 has acted as if timeout=0\u001b[39;00m\n\u001b[1;32m   1064\u001b[0m     \u001b[38;5;28mself\u001b[39m\u001b[38;5;241m.\u001b[39m_wait_for_tstate_lock(timeout\u001b[38;5;241m=\u001b[39m\u001b[38;5;28mmax\u001b[39m(timeout, \u001b[38;5;241m0\u001b[39m))\n",
      "File \u001b[0;32m/opt/homebrew/Cellar/python@3.9/3.9.13_1/Frameworks/Python.framework/Versions/3.9/lib/python3.9/threading.py:1080\u001b[0m, in \u001b[0;36mThread._wait_for_tstate_lock\u001b[0;34m(self, block, timeout)\u001b[0m\n\u001b[1;32m   1077\u001b[0m     \u001b[38;5;28;01mreturn\u001b[39;00m\n\u001b[1;32m   1079\u001b[0m \u001b[38;5;28;01mtry\u001b[39;00m:\n\u001b[0;32m-> 1080\u001b[0m     \u001b[38;5;28;01mif\u001b[39;00m \u001b[43mlock\u001b[49m\u001b[38;5;241;43m.\u001b[39;49m\u001b[43macquire\u001b[49m\u001b[43m(\u001b[49m\u001b[43mblock\u001b[49m\u001b[43m,\u001b[49m\u001b[43m \u001b[49m\u001b[43mtimeout\u001b[49m\u001b[43m)\u001b[49m:\n\u001b[1;32m   1081\u001b[0m         lock\u001b[38;5;241m.\u001b[39mrelease()\n\u001b[1;32m   1082\u001b[0m         \u001b[38;5;28mself\u001b[39m\u001b[38;5;241m.\u001b[39m_stop()\n",
      "\u001b[0;31mKeyboardInterrupt\u001b[0m: "
     ]
    }
   ],
   "source": [
    "with tempfile.TemporaryDirectory() as tmpdirname:\n",
    "    session = get_boto3_session()\n",
    "    s3_client = session.client('s3')\n",
    "    gaptracker_download_path = download_gaptracker(tmpdirname , config , s3_client)\n",
    "    new_open_gaps_df = pd.read_excel(gaptracker_download_path, 'New Open Gaps', header=None)\n",
    "\n",
    "\n",
    "    df = replace_sheet(new_open_gaps_df.copy(), patients)\n",
    "    replace_worksheet_with_dataframe(df, gaptracker_download_path, 'New Open Gaps')\n",
    "    memberid_dict = get_unique_member_dict(gaptracker_download_path)\n",
    "    xmls_dict = {}\n",
    "    for uniquemembergapid, inner_dict in patients.items():\n",
    "        s3_xml_key = inner_dict.get('pdpin') + '_' +str(inner_dict.get('appointment_date'))+'.xml'\n",
    "        uniqueprovidergroupid = inner_dict.get('uniqueprovidergroupid')\n",
    "        new_filename = f\"{memberid_dict.get(uniquemembergapid)}_{str(inner_dict.get('appointment_date'))}\"\n",
    "        xmls_dict.update({s3_xml_key : {'unique_providergroup_id':uniqueprovidergroupid, 'new_filename':new_filename}})\n",
    "\n",
    "    for xml_filename, inner_dict in xmls_dict.items():\n",
    "        source_bucket = config['source_configuration']['bucket']\n",
    "        xmls_key  = f\"{config['client']}/{config['year']}/{config['month']}/xmls/{xml_filename}\"\n",
    "        local_path = os.path.join(tmpdirname, os.path.basename(xml_filename))\n",
    "        s3_client.download_file(source_bucket, xmls_key, local_path)\n",
    "        print(local_path)        \n",
    "        print('newfilename', inner_dict.get('new_filename'))\n",
    "        print('unique_providergroup_id', inner_dict.get('unique_providergroup_id'))\n",
    "        pdfconv.main(local_path, tmpdirname, inner_dict.get('new_filename'), inner_dict.get('unique_providergroup_id'))\n",
    "\n",
    "    print('Started zipping...')\n",
    "    output_zip_name = f\"optum-submission-for-{config['client']}-{config['year']}-{config['month']}.zip\"    # Replace with your desired output ZIP file name\n",
    "    zip_pdfs_in_folder(tmpdirname, output_zip_name)\n",
    "    print('Zipping Done!')\n",
    "    print('Uplaoding!')\n",
    "    s3 = get_boto3_session().resource('s3')\n",
    "    s3.Object('gold-ccd-zone', f'{output_zip_name}').put(Body=open(output_zip_name, 'rb'))\n",
    "    print('Success!!!')"
   ]
  },
  {
   "cell_type": "code",
   "execution_count": null,
   "id": "38ad96ee",
   "metadata": {},
   "outputs": [],
   "source": []
  },
  {
   "cell_type": "code",
   "execution_count": 56,
   "id": "440b7ca9",
   "metadata": {},
   "outputs": [],
   "source": []
  },
  {
   "cell_type": "code",
   "execution_count": null,
   "id": "c43340d3",
   "metadata": {},
   "outputs": [],
   "source": []
  },
  {
   "cell_type": "code",
   "execution_count": null,
   "id": "939a1254",
   "metadata": {},
   "outputs": [],
   "source": []
  },
  {
   "cell_type": "code",
   "execution_count": null,
   "id": "39d2bafd",
   "metadata": {},
   "outputs": [],
   "source": []
  },
  {
   "cell_type": "code",
   "execution_count": null,
   "id": "e556e1d6-bc3a-478e-8d38-575837ac6637",
   "metadata": {},
   "outputs": [],
   "source": []
  }
 ],
 "metadata": {
  "kernelspec": {
   "display_name": "Python 3 (ipykernel)",
   "language": "python",
   "name": "python3"
  },
  "language_info": {
   "codemirror_mode": {
    "name": "ipython",
    "version": 3
   },
   "file_extension": ".py",
   "mimetype": "text/x-python",
   "name": "python",
   "nbconvert_exporter": "python",
   "pygments_lexer": "ipython3",
   "version": "3.9.13"
  }
 },
 "nbformat": 4,
 "nbformat_minor": 5
}
